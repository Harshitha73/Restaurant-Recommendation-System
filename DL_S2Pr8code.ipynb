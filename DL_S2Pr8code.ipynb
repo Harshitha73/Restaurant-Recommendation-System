{
  "nbformat": 4,
  "nbformat_minor": 0,
  "metadata": {
    "colab": {
      "name": "SProject.ipynb",
      "provenance": []
    },
    "kernelspec": {
      "name": "python3",
      "display_name": "Python 3"
    }
  },
  "cells": [
    {
      "cell_type": "code",
      "metadata": {
        "id": "dxCcOLA9wzaj",
        "colab_type": "code",
        "outputId": "3cc546c3-8396-45b2-8a20-9f16eb9de555",
        "colab": {
          "base_uri": "https://localhost:8080/",
          "height": 72
        }
      },
      "source": [
        "import numpy as np\n",
        "import pandas as pd\n",
        "import matplotlib.pyplot as plt\n",
        "import seaborn as sns\n",
        "from sklearn.model_selection import train_test_split\n",
        "from sklearn.feature_extraction.text import TfidfVectorizer\n",
        "from nltk.corpus import stopwords \n",
        "from nltk.tokenize import WordPunctTokenizer"
      ],
      "execution_count": 0,
      "outputs": [
        {
          "output_type": "stream",
          "text": [
            "/usr/local/lib/python3.6/dist-packages/statsmodels/tools/_testing.py:19: FutureWarning: pandas.util.testing is deprecated. Use the functions in the public API at pandas.testing instead.\n",
            "  import pandas.util.testing as tm\n"
          ],
          "name": "stderr"
        }
      ]
    },
    {
      "cell_type": "code",
      "metadata": {
        "id": "qF1gpRBmw6t-",
        "colab_type": "code",
        "colab": {}
      },
      "source": [
        "import warnings\n",
        "warnings.filterwarnings('ignore')"
      ],
      "execution_count": 0,
      "outputs": []
    },
    {
      "cell_type": "code",
      "metadata": {
        "id": "lFafUwSQxMdT",
        "colab_type": "code",
        "outputId": "63af951d-372e-4930-8280-be5893c7d70b",
        "colab": {
          "base_uri": "https://localhost:8080/",
          "height": 445
        }
      },
      "source": [
        "df = pd.read_csv(r'yelp_review_arizona.csv')\n",
        "df_business = pd.read_csv(r'yelp_business.csv')\n",
        "df.head()"
      ],
      "execution_count": 0,
      "outputs": [
        {
          "output_type": "execute_result",
          "data": {
            "text/html": [
              "<div>\n",
              "<style scoped>\n",
              "    .dataframe tbody tr th:only-of-type {\n",
              "        vertical-align: middle;\n",
              "    }\n",
              "\n",
              "    .dataframe tbody tr th {\n",
              "        vertical-align: top;\n",
              "    }\n",
              "\n",
              "    .dataframe thead th {\n",
              "        text-align: right;\n",
              "    }\n",
              "</style>\n",
              "<table border=\"1\" class=\"dataframe\">\n",
              "  <thead>\n",
              "    <tr style=\"text-align: right;\">\n",
              "      <th></th>\n",
              "      <th>review_id</th>\n",
              "      <th>user_id</th>\n",
              "      <th>business_id</th>\n",
              "      <th>text</th>\n",
              "      <th>stars</th>\n",
              "      <th>date</th>\n",
              "    </tr>\n",
              "  </thead>\n",
              "  <tbody>\n",
              "    <tr>\n",
              "      <th>0</th>\n",
              "      <td>V93SYj2OLh5m9Cquzf-7kg</td>\n",
              "      <td>ZwVz20be-hOZnyAbevyMyQ</td>\n",
              "      <td>2c9Vptks_vowLgVUMnCgjw</td>\n",
              "      <td>Came here while in town for a country concert....</td>\n",
              "      <td>4.0</td>\n",
              "      <td>2013-09-04 01:29:46</td>\n",
              "    </tr>\n",
              "    <tr>\n",
              "      <th>1</th>\n",
              "      <td>vNTFadc6T9HeH3Qa78dc_Q</td>\n",
              "      <td>91TB-gzcNyxFh46TL0pmnQ</td>\n",
              "      <td>6nKR80xEGHYf2UxAe_Cu_g</td>\n",
              "      <td>Best barbecue this side of the Mississippi!!!!...</td>\n",
              "      <td>5.0</td>\n",
              "      <td>2015-12-05 02:50:10</td>\n",
              "    </tr>\n",
              "    <tr>\n",
              "      <th>2</th>\n",
              "      <td>SXRFBCt5eXCBF7TlI7UG6Q</td>\n",
              "      <td>Y_QBiZpATJoz8hKUfYF66A</td>\n",
              "      <td>fbQaKW0Lte0JQ_opbnjdKg</td>\n",
              "      <td>Absolutely amazing. Think Chipotle for enchila...</td>\n",
              "      <td>5.0</td>\n",
              "      <td>2014-04-01 01:56:00</td>\n",
              "    </tr>\n",
              "    <tr>\n",
              "      <th>3</th>\n",
              "      <td>CqMNjtG0hNZGhDw4RDE-zw</td>\n",
              "      <td>_Jg-IA0M-GSjBlGu-wmejg</td>\n",
              "      <td>r8764MtYyt8JhxMvrfM_xQ</td>\n",
              "      <td>I was really disappointed with my most recent ...</td>\n",
              "      <td>2.0</td>\n",
              "      <td>2014-10-11 03:53:53</td>\n",
              "    </tr>\n",
              "    <tr>\n",
              "      <th>4</th>\n",
              "      <td>5hZLouGEW4wm6BTJ5aNUNw</td>\n",
              "      <td>1CqkFliipv_X15WYn5aPfg</td>\n",
              "      <td>QS3QxI7u5PRdtbGgI0-UsA</td>\n",
              "      <td>I grade sushi restaurants on 3 factors:\\n- Qua...</td>\n",
              "      <td>4.0</td>\n",
              "      <td>2015-03-04 19:36:21</td>\n",
              "    </tr>\n",
              "  </tbody>\n",
              "</table>\n",
              "</div>"
            ],
            "text/plain": [
              "                review_id                 user_id  ... stars                 date\n",
              "0  V93SYj2OLh5m9Cquzf-7kg  ZwVz20be-hOZnyAbevyMyQ  ...   4.0  2013-09-04 01:29:46\n",
              "1  vNTFadc6T9HeH3Qa78dc_Q  91TB-gzcNyxFh46TL0pmnQ  ...   5.0  2015-12-05 02:50:10\n",
              "2  SXRFBCt5eXCBF7TlI7UG6Q  Y_QBiZpATJoz8hKUfYF66A  ...   5.0  2014-04-01 01:56:00\n",
              "3  CqMNjtG0hNZGhDw4RDE-zw  _Jg-IA0M-GSjBlGu-wmejg  ...   2.0  2014-10-11 03:53:53\n",
              "4  5hZLouGEW4wm6BTJ5aNUNw  1CqkFliipv_X15WYn5aPfg  ...   4.0  2015-03-04 19:36:21\n",
              "\n",
              "[5 rows x 6 columns]"
            ]
          },
          "metadata": {
            "tags": []
          },
          "execution_count": 4
        }
      ]
    },
    {
      "cell_type": "code",
      "metadata": {
        "id": "7_lodZp4165f",
        "colab_type": "code",
        "colab": {}
      },
      "source": [
        "#Select only stars and text\n",
        "yelp_data = df[['business_id', 'user_id', 'stars', 'text']]"
      ],
      "execution_count": 0,
      "outputs": []
    },
    {
      "cell_type": "code",
      "metadata": {
        "id": "HYvC25_H1T0q",
        "colab_type": "code",
        "outputId": "5607413a-9393-4a44-bbe7-44a773d344a4",
        "colab": {
          "base_uri": "https://localhost:8080/",
          "height": 69
        }
      },
      "source": [
        "import nltk\n",
        "nltk.download('stopwords')"
      ],
      "execution_count": 0,
      "outputs": [
        {
          "output_type": "stream",
          "text": [
            "[nltk_data] Downloading package stopwords to /root/nltk_data...\n",
            "[nltk_data]   Unzipping corpora/stopwords.zip.\n"
          ],
          "name": "stdout"
        },
        {
          "output_type": "execute_result",
          "data": {
            "text/plain": [
              "True"
            ]
          },
          "metadata": {
            "tags": []
          },
          "execution_count": 6
        }
      ]
    },
    {
      "cell_type": "code",
      "metadata": {
        "id": "oWRPNCqAzlVp",
        "colab_type": "code",
        "colab": {}
      },
      "source": [
        "import string\n",
        "from nltk.corpus import stopwords\n",
        "stop = []\n",
        "for word in stopwords.words('english'):\n",
        "    s = [char for char in word if char not in string.punctuation]\n",
        "    stop.append(''.join(s))"
      ],
      "execution_count": 0,
      "outputs": []
    },
    {
      "cell_type": "code",
      "metadata": {
        "id": "wGJhrzBw1YdL",
        "colab_type": "code",
        "colab": {}
      },
      "source": [
        "def text_process(mess):\n",
        "    \"\"\"\n",
        "    Takes in a string of text, then performs the following:\n",
        "    1. Remove all punctuation\n",
        "    2. Remove all stopwords\n",
        "    3. Returns a list of the cleaned text\n",
        "    \"\"\"\n",
        "    # Check characters to see if they are in punctuation\n",
        "    nopunc = [char for char in mess if char not in string.punctuation]\n",
        "\n",
        "    # Join the characters again to form the string.\n",
        "    nopunc = ''.join(nopunc)\n",
        "    \n",
        "    # Now just remove any stopwords\n",
        "    return \" \".join([word for word in nopunc.split() if word.lower() not in stop])\n",
        "yelp_data['text'] = yelp_data['text'].apply(text_process)"
      ],
      "execution_count": 0,
      "outputs": []
    },
    {
      "cell_type": "code",
      "metadata": {
        "id": "5ohqTcBo1gW2",
        "colab_type": "code",
        "colab": {}
      },
      "source": [
        "userid_df = yelp_data[['user_id','text']]\n",
        "business_df = yelp_data[['business_id', 'text']]"
      ],
      "execution_count": 0,
      "outputs": []
    },
    {
      "cell_type": "code",
      "metadata": {
        "id": "M9E8TdIt2INN",
        "colab_type": "code",
        "outputId": "f1440d12-1c18-4d0a-f022-79e5ce4d9ea6",
        "colab": {
          "base_uri": "https://localhost:8080/",
          "height": 121
        }
      },
      "source": [
        "userid_df[userid_df['user_id']=='ZwVz20be-hOZnyAbevyMyQ']['text']"
      ],
      "execution_count": 0,
      "outputs": [
        {
          "output_type": "execute_result",
          "data": {
            "text/plain": [
              "0        Came town country concert better way start day...\n",
              "1098     Amazing Im golfer ended loving went family lov...\n",
              "3909     saw many great reviews place decided try high ...\n",
              "11491    Amazing Mexican Asian infusion good service sa...\n",
              "19647    beautiful hotel excellent service Nick front a...\n",
              "Name: text, dtype: object"
            ]
          },
          "metadata": {
            "tags": []
          },
          "execution_count": 17
        }
      ]
    },
    {
      "cell_type": "code",
      "metadata": {
        "id": "0OholiWJ2OTF",
        "colab_type": "code",
        "colab": {}
      },
      "source": [
        "userid_df = userid_df.groupby('user_id').agg({'text': ' '.join})\n",
        "business_df = business_df.groupby('business_id').agg({'text': ' '.join})"
      ],
      "execution_count": 0,
      "outputs": []
    },
    {
      "cell_type": "code",
      "metadata": {
        "id": "D4jgSsaP2Uop",
        "colab_type": "code",
        "outputId": "badc3191-10ab-47d9-ec2f-e74c7444ed1f",
        "colab": {
          "base_uri": "https://localhost:8080/",
          "height": 55
        }
      },
      "source": [
        "userid_df.loc['ZwVz20be-hOZnyAbevyMyQ']['text']"
      ],
      "execution_count": 0,
      "outputs": [
        {
          "output_type": "execute_result",
          "data": {
            "text/plain": [
              "'Came town country concert better way start day Everything great service amazing time walked door sat table surprise beer whiskey tap table pay ounce screen show drank food great whiskey burger favorite country fans must Scottsdale Amazing Im golfer ended loving went family loves golf planned staying hour since golf 6 hours later left far drive place right food amazing expect good brisket tacos chorizo sliders favorite Good quality food many unique items highly recommend place people ages teens loved bays nice roomy 7 us bay 10 people must try back soon saw many great reviews place decided try high hopes loved atmosphere kids loved Texas trivia game thats good thing could say steak came cooked way asked took back fix steak flavor covered butter thought steak even kids eat theres waitress asked daughter something wrong since ate bites explained like said ok walked away shrimp good pricey bugers ok end pushing us take home since ate almost none politely declined still came boxes trying get us take chicken fried chicken daughters friend ordered another item thatcwas horrible gravy flavor tasted piece fatty pulled skin even look fully cooked Maybe night knows pricey quality food recieved Nothing flavor guess thats sauces spices table Amazing Mexican Asian infusion good service saw driving Im glad stopped Everything amazing tried lot Order many plates share everything worth trying Blanca server great help suggestions making sure everything needed patient kept adding Come hungry much try mexican street corn popcorn amazing steak pepita torta mouth watering rolla chingon amazing unique korean tacos must Love atmosphere eclectic place lots choose including drinks loaded mule refreshing tres leches cake Im eating right say Wow beautiful hotel excellent service Nick front accommodating needs cheer competition course girls forgot stuff got us needed items suggested places pick rest rooms nice extremely clean reason gave four stars parking situation onsite parking except vallet 3000 night Makes difficult staying downtown Im assuming case hotels area shop everything could need cafe convenient food toom service excellent Terrance pool area great place gather friends relax definitely back highly recommend hotel'"
            ]
          },
          "metadata": {
            "tags": []
          },
          "execution_count": 21
        }
      ]
    },
    {
      "cell_type": "code",
      "metadata": {
        "id": "juA_hHVe2XvU",
        "colab_type": "code",
        "colab": {}
      },
      "source": [
        "from sklearn.feature_extraction.text import TfidfVectorizer"
      ],
      "execution_count": 0,
      "outputs": []
    },
    {
      "cell_type": "code",
      "metadata": {
        "id": "AisbWdNr2bPh",
        "colab_type": "code",
        "outputId": "56a95749-0477-4c4e-a277-75d544e9b143",
        "colab": {
          "base_uri": "https://localhost:8080/",
          "height": 35
        }
      },
      "source": [
        "#userid vectorizer\n",
        "userid_vectorizer = TfidfVectorizer(tokenizer = WordPunctTokenizer().tokenize, max_features=5000)\n",
        "userid_vectors = userid_vectorizer.fit_transform(userid_df['text'])\n",
        "userid_vectors.shape"
      ],
      "execution_count": 0,
      "outputs": [
        {
          "output_type": "execute_result",
          "data": {
            "text/plain": [
              "(10937, 5000)"
            ]
          },
          "metadata": {
            "tags": []
          },
          "execution_count": 23
        }
      ]
    },
    {
      "cell_type": "code",
      "metadata": {
        "id": "Biyu-UR72vXU",
        "colab_type": "code",
        "outputId": "e466352d-6f09-4c1f-b76f-f3cc0eaa470d",
        "colab": {
          "base_uri": "https://localhost:8080/",
          "height": 35
        }
      },
      "source": [
        "#Business id vectorizer\n",
        "businessid_vectorizer = TfidfVectorizer(tokenizer = WordPunctTokenizer().tokenize, max_features=5000)\n",
        "businessid_vectors = businessid_vectorizer.fit_transform(business_df['text'])\n",
        "businessid_vectors.shape"
      ],
      "execution_count": 0,
      "outputs": [
        {
          "output_type": "execute_result",
          "data": {
            "text/plain": [
              "(1411, 5000)"
            ]
          },
          "metadata": {
            "tags": []
          },
          "execution_count": 25
        }
      ]
    },
    {
      "cell_type": "code",
      "metadata": {
        "id": "YBmtjZfD2yKi",
        "colab_type": "code",
        "outputId": "bda436bb-ef6f-484c-90e4-264cb3c3f5f9",
        "colab": {
          "base_uri": "https://localhost:8080/",
          "height": 35
        }
      },
      "source": [
        "userid_rating_matrix = pd.pivot_table(yelp_data, values='stars', index=['user_id'], columns=['business_id'])\n",
        "userid_rating_matrix.shape"
      ],
      "execution_count": 0,
      "outputs": [
        {
          "output_type": "execute_result",
          "data": {
            "text/plain": [
              "(10937, 1411)"
            ]
          },
          "metadata": {
            "tags": []
          },
          "execution_count": 26
        }
      ]
    },
    {
      "cell_type": "code",
      "metadata": {
        "id": "gZmST2Tk23hP",
        "colab_type": "code",
        "colab": {}
      },
      "source": [
        "\n",
        "P = pd.DataFrame(userid_vectors.toarray(), index=userid_df.index, columns=userid_vectorizer.get_feature_names())\n",
        "Q = pd.DataFrame(businessid_vectors.toarray(), index=business_df.index, columns=businessid_vectorizer.get_feature_names())"
      ],
      "execution_count": 0,
      "outputs": []
    },
    {
      "cell_type": "code",
      "metadata": {
        "id": "FEtrqFPd28yX",
        "colab_type": "code",
        "colab": {}
      },
      "source": [
        "def matrix_factorization(R, P, Q, steps=25, gamma=0.001,lamda=0.02):\n",
        "    for step in range(steps):\n",
        "        for i in R.index:\n",
        "            for j in R.columns:\n",
        "                if R.loc[i,j]>0:\n",
        "                    eij=R.loc[i,j]-np.dot(P.loc[i],Q.loc[j])\n",
        "                    P.loc[i]=P.loc[i]+gamma*(eij*Q.loc[j]-lamda*P.loc[i])\n",
        "                    Q.loc[j]=Q.loc[j]+gamma*(eij*P.loc[i]-lamda*Q.loc[j])\n",
        "        e=0\n",
        "        for i in R.index:\n",
        "            for j in R.columns:\n",
        "                if R.loc[i,j]>0:\n",
        "                    e= e + pow(R.loc[i,j]-np.dot(P.loc[i],Q.loc[j]),2)+lamda*(pow(np.linalg.norm(P.loc[i]),2)+pow(np.linalg.norm(Q.loc[j]),2))\n",
        "        if e<0.001:\n",
        "            break\n",
        "        \n",
        "    return P,Q"
      ],
      "execution_count": 0,
      "outputs": []
    },
    {
      "cell_type": "code",
      "metadata": {
        "id": "fXyKiyxQ3AxK",
        "colab_type": "code",
        "outputId": "d2047500-56e5-4c49-eea2-64f7e0b1c32f",
        "colab": {
          "base_uri": "https://localhost:8080/",
          "height": 52
        }
      },
      "source": [
        "%%time\n",
        "P, Q = matrix_factorization(userid_rating_matrix, P, Q, steps=25, gamma=0.001,lamda=0.02)"
      ],
      "execution_count": 0,
      "outputs": [
        {
          "output_type": "stream",
          "text": [
            "CPU times: user 3h 8min 47s, sys: 2.89 s, total: 3h 8min 50s\n",
            "Wall time: 3h 9min 19s\n"
          ],
          "name": "stdout"
        }
      ]
    },
    {
      "cell_type": "code",
      "metadata": {
        "id": "836FtR-y3PBZ",
        "colab_type": "code",
        "outputId": "eae1f99b-8aa0-4afd-bdae-bfc7e43e746a",
        "colab": {
          "base_uri": "https://localhost:8080/",
          "height": 208
        }
      },
      "source": [
        "Q.iloc[0].sort_values(ascending=False).head(10)"
      ],
      "execution_count": 0,
      "outputs": [
        {
          "output_type": "execute_result",
          "data": {
            "text/plain": [
              "matts        1.077482\n",
              "breakfast    0.659543\n",
              "wait         0.529304\n",
              "food         0.428016\n",
              "place        0.405557\n",
              "eggs         0.362205\n",
              "good         0.354656\n",
              "bacon        0.312531\n",
              "like         0.274301\n",
              "big          0.265078\n",
              "Name: -050d_XIor1NpCuWkbIVaQ, dtype: float64"
            ]
          },
          "metadata": {
            "tags": []
          },
          "execution_count": 33
        }
      ]
    },
    {
      "cell_type": "code",
      "metadata": {
        "id": "mxhCML_M3SS5",
        "colab_type": "code",
        "colab": {}
      },
      "source": [
        "# Store P, Q and vectorizer in pickle file\n",
        "import pickle\n",
        "output = open('yelp_recommendation_model_8.pkl', 'wb')\n",
        "pickle.dump(P,output)\n",
        "pickle.dump(Q,output)\n",
        "pickle.dump(userid_vectorizer,output)\n",
        "output.close()"
      ],
      "execution_count": 0,
      "outputs": []
    },
    {
      "cell_type": "code",
      "metadata": {
        "id": "SpBntiJz3XLx",
        "colab_type": "code",
        "outputId": "502106bb-e444-4dd4-ccd3-a66813160445",
        "colab": {
          "base_uri": "https://localhost:8080/",
          "height": 503
        }
      },
      "source": [
        "#static input\n",
        "words = \"i want to have dinner with excellent dessert\"\n",
        "test_df= pd.DataFrame([words], columns=['text'])\n",
        "test_df['text'] = test_df['text'].apply(text_process)\n",
        "test_vectors = userid_vectorizer.transform(test_df['text'])\n",
        "test_v_df = pd.DataFrame(test_vectors.toarray(), index=test_df.index, columns=userid_vectorizer.get_feature_names())\n",
        "\n",
        "predictItemRating=pd.DataFrame(np.dot(test_v_df.loc[0],Q.T),index=Q.index,columns=['Rating'])\n",
        "topRecommendations=pd.DataFrame.sort_values(predictItemRating,['Rating'],ascending=[0])[:7]\n",
        "\n",
        "for i in topRecommendations.index:\n",
        "    print(df_business[df_business['business_id']==i]['name'].iloc[0])\n",
        "    print(df_business[df_business['business_id']==i]['categories'].iloc[0])\n",
        "    print(str(df_business[df_business['business_id']==i]['stars'].iloc[0])+ ' '+str(df_business[df_business['business_id']==i]['review_count'].iloc[0]))\n",
        "    print('')"
      ],
      "execution_count": 0,
      "outputs": [
        {
          "output_type": "stream",
          "text": [
            "Steak 44\n",
            "Restaurants, Steakhouses, Bars, Nightlife, Wine Bars, Seafood\n",
            "4.5 950\n",
            "\n",
            "Citizen Public House\n",
            "Cocktail Bars, Bars, Nightlife, American (New), Local Flavor, Gastropubs, Salad, Restaurants\n",
            "4.5 1797\n",
            "\n",
            "The White Chocolate Grill\n",
            "Food, American (Traditional), Desserts, Restaurants\n",
            "4.0 975\n",
            "\n",
            "Roaring Fork\n",
            "Nightlife, Desserts, Steakhouses, Food, Restaurants, Bars, American (Traditional)\n",
            "4.0 1072\n",
            "\n",
            "The Parlor\n",
            "Salad, Italian, Sandwiches, Pizza, Restaurants\n",
            "4.5 1199\n",
            "\n",
            "Cibo\n",
            "Restaurants, Italian, Sandwiches, Pizza\n",
            "4.5 1955\n",
            "\n",
            "Rusconi's American Kitchen\n",
            "Restaurants, American (Traditional), Breakfast & Brunch, American (New)\n",
            "4.5 624\n",
            "\n"
          ],
          "name": "stdout"
        }
      ]
    },
    {
      "cell_type": "code",
      "metadata": {
        "id": "t_GsYZ8r3q5L",
        "colab_type": "code",
        "outputId": "bac4f40f-d350-4f1b-eed8-5d07f6399a4c",
        "colab": {
          "base_uri": "https://localhost:8080/",
          "height": 520
        }
      },
      "source": [
        "#dynamic input\n",
        "words = input()\n",
        "test_df= pd.DataFrame([words], columns=['text'])\n",
        "test_df['text'] = test_df['text'].apply(text_process)\n",
        "test_vectors = userid_vectorizer.transform(test_df['text'])\n",
        "test_v_df = pd.DataFrame(test_vectors.toarray(), index=test_df.index, columns=userid_vectorizer.get_feature_names())\n",
        "predictItemRating=pd.DataFrame(np.dot(test_v_df.loc[0],Q.T),index=Q.index,columns=['Rating'])\n",
        "topRecommendations=pd.DataFrame.sort_values(predictItemRating,['Rating'],ascending=[0])[:7]\n",
        "for i in topRecommendations.index:\n",
        "    print(df_business[df_business['business_id']==i]['name'].iloc[0])\n",
        "    print(df_business[df_business['business_id']==i]['categories'].iloc[0])\n",
        "    print(str(df_business[df_business['business_id']==i]['stars'].iloc[0])+ ' '+str(df_business[df_business['business_id']==i]['review_count'].iloc[0]))\n",
        "    print('')"
      ],
      "execution_count": 0,
      "outputs": [
        {
          "output_type": "stream",
          "text": [
            "i want to have a delightful dinner\n",
            "Lux Central\n",
            "Bakeries, American (New), Nightlife, Bars, Coffee & Tea, Restaurants, Breakfast & Brunch, Food\n",
            "4.5 2046\n",
            "\n",
            "Citizen Public House\n",
            "Cocktail Bars, Bars, Nightlife, American (New), Local Flavor, Gastropubs, Salad, Restaurants\n",
            "4.5 1797\n",
            "\n",
            "Windsor\n",
            "Restaurants, Nightlife, Bars, Breakfast & Brunch, Pubs, Food, American (New), Beer, Wine & Spirits\n",
            "4.0 1100\n",
            "\n",
            "Steak 44\n",
            "Restaurants, Steakhouses, Bars, Nightlife, Wine Bars, Seafood\n",
            "4.5 950\n",
            "\n",
            "Roaring Fork\n",
            "Nightlife, Desserts, Steakhouses, Food, Restaurants, Bars, American (Traditional)\n",
            "4.0 1072\n",
            "\n",
            "Chelsea's Kitchen\n",
            "Breakfast & Brunch, Restaurants, American (New), American (Traditional)\n",
            "4.0 1363\n",
            "\n",
            "The Henry\n",
            "Salad, Venues & Event Spaces, Event Planning & Services, American (New), Breakfast & Brunch, Restaurants\n",
            "4.0 1176\n",
            "\n"
          ],
          "name": "stdout"
        }
      ]
    }
  ]
}